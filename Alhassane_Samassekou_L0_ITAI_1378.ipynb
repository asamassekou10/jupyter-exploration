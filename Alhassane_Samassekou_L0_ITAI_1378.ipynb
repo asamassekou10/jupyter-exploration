{
  "nbformat": 4,
  "nbformat_minor": 0,
  "metadata": {
    "colab": {
      "provenance": []
    },
    "kernelspec": {
      "name": "python3",
      "display_name": "Python 3"
    },
    "language_info": {
      "name": "python"
    }
  },
  "cells": [
    {
      "cell_type": "markdown",
      "source": [
        "##L0 ITAI 1378 Colab\n",
        "###Alhassane Samassekou"
      ],
      "metadata": {
        "id": "x9ILtSLpmsXl"
      }
    },
    {
      "cell_type": "code",
      "source": [
        "print(\"Hello, World!\")"
      ],
      "metadata": {
        "colab": {
          "base_uri": "https://localhost:8080/"
        },
        "id": "ZqGxZMX9mwkQ",
        "outputId": "30f17a26-ba3b-4f5c-9d01-9e90950462b7"
      },
      "execution_count": null,
      "outputs": [
        {
          "output_type": "stream",
          "name": "stdout",
          "text": [
            "Hello, World!\n"
          ]
        }
      ]
    },
    {
      "cell_type": "code",
      "source": [],
      "metadata": {
        "id": "XIHAtMRMnRpY"
      },
      "execution_count": null,
      "outputs": []
    }
  ]
}